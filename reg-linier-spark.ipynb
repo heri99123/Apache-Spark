{
 "cells": [
  {
   "cell_type": "markdown",
   "metadata": {},
   "source": [
    "# 1. Install Library"
   ]
  },
  {
   "cell_type": "code",
   "execution_count": null,
   "metadata": {},
   "outputs": [],
   "source": [
    "pip install pyspark"
   ]
  },
  {
   "cell_type": "code",
   "execution_count": 44,
   "metadata": {},
   "outputs": [
    {
     "name": "stdout",
     "output_type": "stream",
     "text": [
      "Requirement already satisfied: pandas-ml in /usr/local/lib/python3.7/site-packages (0.6.1)\n",
      "Requirement already satisfied: pandas>=0.19.0 in /usr/local/lib/python3.7/site-packages (from pandas-ml) (1.0.3)\n",
      "Requirement already satisfied: enum34 in /usr/local/lib/python3.7/site-packages (from pandas-ml) (1.1.10)\n",
      "Requirement already satisfied: numpy>=1.13.3 in /usr/local/lib/python3.7/site-packages (from pandas>=0.19.0->pandas-ml) (1.18.3)\n",
      "Requirement already satisfied: pytz>=2017.2 in /usr/local/lib/python3.7/site-packages (from pandas>=0.19.0->pandas-ml) (2020.1)\n",
      "Requirement already satisfied: python-dateutil>=2.6.1 in /usr/local/lib/python3.7/site-packages (from pandas>=0.19.0->pandas-ml) (2.8.1)\n",
      "Requirement already satisfied: six>=1.5 in /usr/local/lib/python3.7/site-packages (from python-dateutil>=2.6.1->pandas>=0.19.0->pandas-ml) (1.14.0)\n",
      "Could not build wheels for pandas-ml, since package 'wheel' is not installed.\n",
      "Could not build wheels for pandas, since package 'wheel' is not installed.\n",
      "Could not build wheels for enum34, since package 'wheel' is not installed.\n",
      "Could not build wheels for numpy, since package 'wheel' is not installed.\n",
      "Could not build wheels for pytz, since package 'wheel' is not installed.\n",
      "Could not build wheels for python-dateutil, since package 'wheel' is not installed.\n",
      "Could not build wheels for six, since package 'wheel' is not installed.\n",
      "Note: you may need to restart the kernel to use updated packages.\n"
     ]
    }
   ],
   "source": [
    "pip install pandas-ml"
   ]
  },
  {
   "cell_type": "code",
   "execution_count": 16,
   "metadata": {},
   "outputs": [
    {
     "name": "stdout",
     "output_type": "stream",
     "text": [
      "Requirement already satisfied: pandas in /usr/local/lib/python3.7/site-packages (1.0.3)\n",
      "Requirement already satisfied: numpy>=1.13.3 in /usr/local/lib/python3.7/site-packages (from pandas) (1.18.3)\n",
      "Requirement already satisfied: pytz>=2017.2 in /usr/local/lib/python3.7/site-packages (from pandas) (2020.1)\n",
      "Requirement already satisfied: python-dateutil>=2.6.1 in /usr/local/lib/python3.7/site-packages (from pandas) (2.8.1)\n",
      "Requirement already satisfied: six>=1.5 in /usr/local/lib/python3.7/site-packages (from python-dateutil>=2.6.1->pandas) (1.14.0)\n",
      "Could not build wheels for pandas, since package 'wheel' is not installed.\n",
      "Could not build wheels for numpy, since package 'wheel' is not installed.\n",
      "Could not build wheels for pytz, since package 'wheel' is not installed.\n",
      "Could not build wheels for python-dateutil, since package 'wheel' is not installed.\n",
      "Could not build wheels for six, since package 'wheel' is not installed.\n",
      "Note: you may need to restart the kernel to use updated packages.\n"
     ]
    }
   ],
   "source": [
    "pip install pandas"
   ]
  },
  {
   "cell_type": "code",
   "execution_count": 2,
   "metadata": {},
   "outputs": [
    {
     "name": "stdout",
     "output_type": "stream",
     "text": [
      "Requirement already satisfied: numpy in /usr/local/lib/python3.7/site-packages (1.18.3)\n",
      "Could not build wheels for numpy, since package 'wheel' is not installed.\n",
      "Note: you may need to restart the kernel to use updated packages.\n"
     ]
    }
   ],
   "source": [
    "pip install numpy"
   ]
  },
  {
   "cell_type": "code",
   "execution_count": null,
   "metadata": {},
   "outputs": [],
   "source": [
    "pip install liniear-regression"
   ]
  },
  {
   "cell_type": "markdown",
   "metadata": {},
   "source": [
    "# 2. Import Spark SQL, Machine Learning & Membuat Session"
   ]
  },
  {
   "cell_type": "code",
   "execution_count": 3,
   "metadata": {},
   "outputs": [],
   "source": [
    "from pyspark.sql.types import *\n",
    "from pyspark.sql.functions import *\n",
    "from pyspark.sql import SparkSession\n",
    "from pyspark.ml.regression import LinearRegression\n",
    "from pyspark.ml.feature import VectorAssembler\n",
    "from pyspark import SparkContext, SparkConf\n",
    "\n",
    "sc = SparkContext.getOrCreate(SparkConf().setMaster(\"local[*]\"))\n",
    "\n",
    "#Buat Session\n",
    "appName = \"Regresi Spark\"\n",
    "spark = SparkSession \\\n",
    "    .builder \\\n",
    "    .appName(appName) \\\n",
    "    .config(\"spark.some.config.ooption\", \"some-value\") \\\n",
    "    .getOrCreate()"
   ]
  },
  {
   "cell_type": "markdown",
   "metadata": {},
   "source": [
    "# 3. Membuat Data Frame dari File"
   ]
  },
  {
   "cell_type": "code",
   "execution_count": 4,
   "metadata": {},
   "outputs": [
    {
     "name": "stdout",
     "output_type": "stream",
     "text": [
      "+----------+---------+-------+-----------------+-------------+--------+--------+\n",
      "|DayOfMonth|DayOfWeek|Carrier|OriginalAirportID|DestAirportID|DepDelay|ArrDelay|\n",
      "+----------+---------+-------+-----------------+-------------+--------+--------+\n",
      "|        19|        5|     DL|            11433|        13303|      -3|       1|\n",
      "|        19|        5|     DL|            14869|        12478|       0|      -8|\n",
      "|        19|        5|     DL|            14057|        14869|      -4|     -15|\n",
      "|        19|        5|     DL|            15016|        11433|      28|      24|\n",
      "|        19|        5|     DL|            11193|        12892|      -6|     -11|\n",
      "+----------+---------+-------+-----------------+-------------+--------+--------+\n",
      "only showing top 5 rows\n",
      "\n"
     ]
    }
   ],
   "source": [
    "flightSchema = StructType([\n",
    "    StructField(\"DayOfMonth\", IntegerType(), False),\n",
    "    StructField(\"DayOfWeek\", IntegerType(), False),\n",
    "    StructField(\"Carrier\", StringType(), False),\n",
    "    StructField(\"OriginalAirportID\", IntegerType(), False),\n",
    "    StructField(\"DestAirportID\", IntegerType(), False),\n",
    "    StructField(\"DepDelay\", IntegerType(), False),\n",
    "    StructField(\"ArrDelay\", IntegerType(), False)\n",
    "])\n",
    "#Baca data file\n",
    "flightDataFrame = spark.read.csv('/root/materi/mtk-stats/Regresi Linier/dataset/flights.csv', schema=flightSchema, header=True)\n",
    "flightDataFrame.show(5)"
   ]
  },
  {
   "cell_type": "markdown",
   "metadata": {},
   "source": [
    "# 4. Mempersiapkan Data"
   ]
  },
  {
   "cell_type": "code",
   "execution_count": 5,
   "metadata": {},
   "outputs": [
    {
     "name": "stdout",
     "output_type": "stream",
     "text": [
      "+----------+---------+-----------------+-------------+--------+--------+\n",
      "|DayOfMonth|DayOfWeek|OriginalAirportID|DestAirportID|DepDelay|ArrDelay|\n",
      "+----------+---------+-----------------+-------------+--------+--------+\n",
      "|        19|        5|            11433|        13303|      -3|       1|\n",
      "|        19|        5|            14869|        12478|       0|      -8|\n",
      "|        19|        5|            14057|        14869|      -4|     -15|\n",
      "|        19|        5|            15016|        11433|      28|      24|\n",
      "|        19|        5|            11193|        12892|      -6|     -11|\n",
      "+----------+---------+-----------------+-------------+--------+--------+\n",
      "only showing top 5 rows\n",
      "\n"
     ]
    }
   ],
   "source": [
    "data = flightDataFrame.select(\"DayOfMonth\", \"DayOfWeek\", \"OriginalAirportID\", \"DestAirportID\", \"DepDelay\", \"ArrDelay\")\n",
    "data.show(5)"
   ]
  },
  {
   "cell_type": "markdown",
   "metadata": {},
   "source": [
    "# 5. Membagi data training & data testing"
   ]
  },
  {
   "cell_type": "code",
   "execution_count": 6,
   "metadata": {},
   "outputs": [
    {
     "name": "stdout",
     "output_type": "stream",
     "text": [
      "Training Rows :  1891056  Testing Rows :  811162\n"
     ]
    }
   ],
   "source": [
    "#70% Data Training dan 30% Data Testing\n",
    "dataTerpisahkan = data.randomSplit([0.7, 0.3])\n",
    "trainingData = dataTerpisahkan[0]\n",
    "testingData = dataTerpisahkan[1]\n",
    "train_rows = trainingData.count()\n",
    "test_rows = testingData.count()\n",
    "print(\"Training Rows : \", train_rows, \" Testing Rows : \", test_rows)"
   ]
  },
  {
   "cell_type": "markdown",
   "metadata": {},
   "source": [
    "# 6. Menyiapkan data Training"
   ]
  },
  {
   "cell_type": "code",
   "execution_count": 10,
   "metadata": {},
   "outputs": [
    {
     "name": "stdout",
     "output_type": "stream",
     "text": [
      "+------------------------------+-----+\n",
      "|features                      |label|\n",
      "+------------------------------+-----+\n",
      "|[1.0,1.0,10140.0,10397.0,-4.0]|-11  |\n",
      "|[1.0,1.0,10140.0,10397.0,0.0] |-12  |\n",
      "|[1.0,1.0,10140.0,10397.0,0.0] |-9   |\n",
      "+------------------------------+-----+\n",
      "only showing top 3 rows\n",
      "\n"
     ]
    }
   ],
   "source": [
    "assembler = VectorAssembler(inputCols = [\n",
    "    \"DayOfMonth\", \"DayOfWeek\", \"OriginalAirportID\", \"DestAirportID\", \"DepDelay\"], outputCol=\"features\")\n",
    "trainingDataFinal = assembler.transform(trainingData).select(col(\"features\"), (col(\"ArrDelay\").cast(\"Int\").alias(\"label\")))\n",
    "trainingDataFinal.show(truncate=False, n =3)"
   ]
  },
  {
   "cell_type": "markdown",
   "metadata": {},
   "source": [
    "# 7. Training Algoritma Model Regresi"
   ]
  },
  {
   "cell_type": "code",
   "execution_count": 11,
   "metadata": {},
   "outputs": [
    {
     "name": "stdout",
     "output_type": "stream",
     "text": [
      "Model Algoritma Regresi selesai di Training\n"
     ]
    }
   ],
   "source": [
    "algoritma = LinearRegression(\n",
    "    labelCol=\"label\", featuresCol=\"features\", maxIter=10, regParam=0.3)\n",
    "model = algoritma.fit(trainingDataFinal)\n",
    "print(\"Model Algoritma Regresi selesai di Training\")"
   ]
  },
  {
   "cell_type": "markdown",
   "metadata": {},
   "source": [
    "# 8. Mempersiapkan Data Testing"
   ]
  },
  {
   "cell_type": "code",
   "execution_count": 12,
   "metadata": {},
   "outputs": [
    {
     "name": "stdout",
     "output_type": "stream",
     "text": [
      "+------------------------------+---------+\n",
      "|features                      |trueLabel|\n",
      "+------------------------------+---------+\n",
      "|[1.0,1.0,10140.0,10397.0,-2.0]|-18      |\n",
      "|[1.0,1.0,10140.0,10397.0,-2.0]|-17      |\n",
      "+------------------------------+---------+\n",
      "only showing top 2 rows\n",
      "\n"
     ]
    }
   ],
   "source": [
    "testingDataFinal = assembler.transform(testingData).select(\n",
    "    col(\"features\"), (col(\"ArrDelay\")).cast(\"Int\").alias(\"trueLabel\"))\n",
    "testingDataFinal.show(truncate=False, n=2)"
   ]
  },
  {
   "cell_type": "markdown",
   "metadata": {},
   "source": [
    "# 9. Memprediksi hasil regresi dengan model yang sudah di training"
   ]
  },
  {
   "cell_type": "code",
   "execution_count": 13,
   "metadata": {},
   "outputs": [
    {
     "name": "stdout",
     "output_type": "stream",
     "text": [
      "+--------------------+-------------------+---------+\n",
      "|            features|         prediction|trueLabel|\n",
      "+--------------------+-------------------+---------+\n",
      "|[1.0,1.0,10140.0,...| -5.538298828000444|      -18|\n",
      "|[1.0,1.0,10140.0,...| -5.538298828000444|      -17|\n",
      "|[1.0,1.0,10140.0,...|0.34627990534253206|        4|\n",
      "+--------------------+-------------------+---------+\n",
      "only showing top 3 rows\n",
      "\n"
     ]
    }
   ],
   "source": [
    "prediksiMentah = model.transform(testingDataFinal)\n",
    "prediksiFinal = prediksiMentah.select(\"features\", \"prediction\", \"trueLabel\")\n",
    "prediksiFinal.show(3)"
   ]
  },
  {
   "cell_type": "markdown",
   "metadata": {},
   "source": [
    "# 10. Mengukur Akurasi model Regresi"
   ]
  },
  {
   "cell_type": "code",
   "execution_count": 14,
   "metadata": {},
   "outputs": [
    {
     "name": "stdout",
     "output_type": "stream",
     "text": [
      "Root Mean Square Error (RMSE) :  13.219716358534328\n"
     ]
    }
   ],
   "source": [
    "from pyspark.ml.evaluation import RegressionEvaluator\n",
    "evaluator = RegressionEvaluator(\n",
    "    labelCol=\"trueLabel\", predictionCol= \"prediction\", metricName=\"rmse\")\n",
    "rmse = evaluator.evaluate(prediksiFinal)\n",
    "print(\"Root Mean Square Error (RMSE) : \",rmse)"
   ]
  },
  {
   "cell_type": "markdown",
   "metadata": {},
   "source": [
    "# 11. Memprediksi satu data Penerbangan"
   ]
  },
  {
   "cell_type": "code",
   "execution_count": 24,
   "metadata": {},
   "outputs": [
    {
     "name": "stdout",
     "output_type": "stream",
     "text": [
      "+--------------------+------------------+---------+\n",
      "|            features|        prediction|trueLabel|\n",
      "+--------------------+------------------+---------+\n",
      "|[1.0,1.0,10140.0,...|-5.538298828000444|      -18|\n",
      "+--------------------+------------------+---------+\n",
      "\n"
     ]
    }
   ],
   "source": [
    "baris1List = testingData.take(1)\n",
    "baris1DataFrame = sc.parallelize(baris1List).toDF() #Mengubah list ke RDD ke dataFrame\n",
    "\n",
    "testingBaris1= assembler.transform(\n",
    "    baris1DataFrame).select(col(\"features\"), (col(\"ArrDelay\")).cast(\"Int\").alias(\"trueLabel\"))\n",
    "prediksiMentah = model.transform(testingBaris1)\n",
    "prediksiFinal = prediksiMentah.select(\"features\", \"prediction\", \"trueLabel\")\n",
    "prediksiFinal.show()"
   ]
  },
  {
   "cell_type": "code",
   "execution_count": null,
   "metadata": {},
   "outputs": [],
   "source": []
  }
 ],
 "metadata": {
  "kernelspec": {
   "display_name": "Python 3",
   "language": "python",
   "name": "python3"
  },
  "language_info": {
   "codemirror_mode": {
    "name": "ipython",
    "version": 3
   },
   "file_extension": ".py",
   "mimetype": "text/x-python",
   "name": "python",
   "nbconvert_exporter": "python",
   "pygments_lexer": "ipython3",
   "version": "3.7.6"
  }
 },
 "nbformat": 4,
 "nbformat_minor": 4
}
